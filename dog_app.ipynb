{
 "cells": [
  {
   "cell_type": "markdown",
   "metadata": {},
   "source": [
    "# Artificial Intelligence Nanodegree\n",
    "\n",
    "## Convolutional Neural Networks\n",
    "\n",
    "## Project: Write an Algorithm for a Dog Identification App \n",
    "\n",
    "---\n",
    "\n",
    "In this notebook, some template code has already been provided for you, and you will need to implement additional functionality to successfully complete this project. You will not need to modify the included code beyond what is requested. Sections that begin with **'(IMPLEMENTATION)'** in the header indicate that the following block of code will require additional functionality which you must provide. Instructions will be provided for each section, and the specifics of the implementation are marked in the code block with a 'TODO' statement. Please be sure to read the instructions carefully! \n",
    "\n",
    "> **Note**: Once you have completed all of the code implementations, you need to finalize your work by exporting the iPython Notebook as an HTML document. Before exporting the notebook to html, all of the code cells need to have been run so that reviewers can see the final implementation and output. You can then export the notebook by using the menu above and navigating to  \\n\",\n",
    "    \"**File -> Download as -> HTML (.html)**. Include the finished document along with this notebook as your submission.\n",
    "\n",
    "In addition to implementing code, there will be questions that you must answer which relate to the project and your implementation. Each section where you will answer a question is preceded by a **'Question X'** header. Carefully read each question and provide thorough answers in the following text boxes that begin with **'Answer:'**. Your project submission will be evaluated based on your answers to each of the questions and the implementation you provide.\n",
    "\n",
    ">**Note:** Code and Markdown cells can be executed using the **Shift + Enter** keyboard shortcut.  Markdown cells can be edited by double-clicking the cell to enter edit mode.\n",
    "\n",
    "The rubric contains _optional_ \"Stand Out Suggestions\" for enhancing the project beyond the minimum requirements. If you decide to pursue the \"Stand Out Suggestions\", you should include the code in this IPython notebook.\n",
    "\n",
    "\n",
    "\n",
    "---\n",
    "### Why We're Here \n",
    "\n",
    "In this notebook, you will make the first steps towards developing an algorithm that could be used as part of a mobile or web app.  At the end of this project, your code will accept any user-supplied image as input.  If a dog is detected in the image, it will provide an estimate of the dog's breed.  If a human is detected, it will provide an estimate of the dog breed that is most resembling.  The image below displays potential sample output of your finished project (... but we expect that each student's algorithm will behave differently!). \n",
    "\n",
    "![Sample Dog Output](images/sample_dog_output.png)\n",
    "\n",
    "In this real-world setting, you will need to piece together a series of models to perform different tasks; for instance, the algorithm that detects humans in an image will be different from the CNN that infers dog breed.  There are many points of possible failure, and no perfect algorithm exists.  Your imperfect solution will nonetheless create a fun user experience!\n",
    "\n",
    "### The Road Ahead\n",
    "\n",
    "We break the notebook into separate steps.  Feel free to use the links below to navigate the notebook.\n",
    "\n",
    "* [Step 0](#step0): Import Datasets\n",
    "* [Step 1](#step1): Detect Humans\n",
    "* [Step 2](#step2): Detect Dogs\n",
    "* [Step 3](#step3): Create a CNN to Classify Dog Breeds (from Scratch)\n",
    "* [Step 4](#step4): Use a CNN to Classify Dog Breeds (using Transfer Learning)\n",
    "* [Step 5](#step5): Create a CNN to Classify Dog Breeds (using Transfer Learning)\n",
    "* [Step 6](#step6): Write your Algorithm\n",
    "* [Step 7](#step7): Test Your Algorithm\n",
    "\n",
    "---\n",
    "<a id='step0'></a>\n",
    "## Step 0: Import Datasets\n",
    "\n",
    "### Import Dog Dataset\n",
    "\n",
    "In the code cell below, we import a dataset of dog images.  We populate a few variables through the use of the `load_files` function from the scikit-learn library:\n",
    "- `train_files`, `valid_files`, `test_files` - numpy arrays containing file paths to images\n",
    "- `train_targets`, `valid_targets`, `test_targets` - numpy arrays containing onehot-encoded classification labels \n",
    "- `dog_names` - list of string-valued dog breed names for translating labels"
   ]
  },
  {
   "cell_type": "code",
   "execution_count": 1,
   "metadata": {},
   "outputs": [
    {
     "name": "stderr",
     "output_type": "stream",
     "text": [
      "Using TensorFlow backend.\n"
     ]
    },
    {
     "name": "stdout",
     "output_type": "stream",
     "text": [
      "There are 133 total dog categories.\n",
      "There are 8351 total dog images.\n",
      "\n",
      "There are 6680 training dog images.\n",
      "There are 835 validation dog images.\n",
      "There are 836 test dog images.\n"
     ]
    }
   ],
   "source": [
    "from sklearn.datasets import load_files       \n",
    "from keras.utils import np_utils\n",
    "import numpy as np\n",
    "from glob import glob\n",
    "\n",
    "# define function to load train, test, and validation datasets\n",
    "def load_dataset(path):\n",
    "    data = load_files(path)\n",
    "    dog_files = np.array(data['filenames'])\n",
    "    dog_targets = np_utils.to_categorical(np.array(data['target']), 133)\n",
    "    return dog_files, dog_targets\n",
    "\n",
    "# load train, test, and validation datasets\n",
    "train_files, train_targets = load_dataset('dogImages/train')\n",
    "valid_files, valid_targets = load_dataset('dogImages/valid')\n",
    "test_files, test_targets = load_dataset('dogImages/test')\n",
    "\n",
    "# load list of dog names\n",
    "dog_names = [item[20:-1] for item in sorted(glob(\"dogImages/train/*/\"))]\n",
    "\n",
    "# print statistics about the dataset\n",
    "print('There are %d total dog categories.' % len(dog_names))\n",
    "print('There are %s total dog images.\\n' % len(np.hstack([train_files, valid_files, test_files])))\n",
    "print('There are %d training dog images.' % len(train_files))\n",
    "print('There are %d validation dog images.' % len(valid_files))\n",
    "print('There are %d test dog images.'% len(test_files))"
   ]
  },
  {
   "cell_type": "markdown",
   "metadata": {},
   "source": [
    "### Import Human Dataset\n",
    "\n",
    "In the code cell below, we import a dataset of human images, where the file paths are stored in the numpy array `human_files`."
   ]
  },
  {
   "cell_type": "code",
   "execution_count": 2,
   "metadata": {},
   "outputs": [
    {
     "name": "stdout",
     "output_type": "stream",
     "text": [
      "There are 13233 total human images.\n"
     ]
    }
   ],
   "source": [
    "import random\n",
    "random.seed(8675309)\n",
    "\n",
    "# load filenames in shuffled human dataset\n",
    "human_files = np.array(glob(\"lfw/*/*\"))\n",
    "random.shuffle(human_files)\n",
    "\n",
    "# print statistics about the dataset\n",
    "print('There are %d total human images.' % len(human_files))"
   ]
  },
  {
   "cell_type": "markdown",
   "metadata": {},
   "source": [
    "---\n",
    "<a id='step1'></a>\n",
    "## Step 1: Detect Humans\n",
    "\n",
    "We use OpenCV's implementation of [Haar feature-based cascade classifiers](http://docs.opencv.org/trunk/d7/d8b/tutorial_py_face_detection.html) to detect human faces in images.  OpenCV provides many pre-trained face detectors, stored as XML files on [github](https://github.com/opencv/opencv/tree/master/data/haarcascades).  We have downloaded one of these detectors and stored it in the `haarcascades` directory.\n",
    "\n",
    "In the next code cell, we demonstrate how to use this detector to find human faces in a sample image."
   ]
  },
  {
   "cell_type": "code",
   "execution_count": 3,
   "metadata": {},
   "outputs": [
    {
     "name": "stdout",
     "output_type": "stream",
     "text": [
      "Number of faces detected: 1\n"
     ]
    },
    {
     "data": {
      "image/png": "[encoded data removed]",
      "text/plain": [
       "<matplotlib.figure.Figure at 0x7fc84f1d9c50>"
      ]
     },
     "metadata": {},
     "output_type": "display_data"
    }
   ],
   "source": [
    "import cv2                \n",
    "import matplotlib.pyplot as plt                        \n",
    "%matplotlib inline                               \n",
    "\n",
    "# extract pre-trained face detector\n",
    "face_cascade = cv2.CascadeClassifier('haarcascades/haarcascade_frontalface_alt.xml')\n",
    "\n",
    "# load color (BGR) image\n",
    "img = cv2.imread(human_files[3])\n",
    "# convert BGR image to grayscale\n",
    "gray = cv2.cvtColor(img, cv2.COLOR_BGR2GRAY)\n",
    "\n",
    "# find faces in image\n",
    "faces = face_cascade.detectMultiScale(gray)\n",
    "\n",
    "# print number of faces detected in the image\n",
    "print('Number of faces detected:', len(faces))\n",
    "\n",
    "# get bounding box for each detected face\n",
    "for (x,y,w,h) in faces:\n",
    "    # add bounding box to color image\n",
    "    cv2.rectangle(img,(x,y),(x+w,y+h),(255,0,0),2)\n",
    "    \n",
    "# convert BGR image to RGB for plotting\n",
    "cv_rgb = cv2.cvtColor(img, cv2.COLOR_BGR2RGB)\n",
    "\n",
    "# display the image, along with bounding box\n",
    "plt.imshow(cv_rgb)\n",
    "plt.show()"
   ]
  },
  {
   "cell_type": "markdown",
   "metadata": {},
   "source": [
    "Before using any of the face detectors, it is standard procedure to convert the images to grayscale.  The `detectMultiScale` function executes the classifier stored in `face_cascade` and takes the grayscale image as a parameter.  \n",
    "\n",
    "In the above code, `faces` is a numpy array of detected faces, where each row corresponds to a detected face.  Each detected face is a 1D array with four entries that specifies the bounding box of the detected face.  The first two entries in the array (extracted in the above code as `x` and `y`) specify the horizontal and vertical positions of the top left corner of the bounding box.  The last two entries in the array (extracted here as `w` and `h`) specify the width and height of the box.\n",
    "\n",
    "### Write a Human Face Detector\n",
    "\n",
    "We can use this procedure to write a function that returns `True` if a human face is detected in an image and `False` otherwise.  This function, aptly named `face_detector`, takes a string-valued file path to an image as input and appears in the code block below."
   ]
  },
  {
   "cell_type": "code",
   "execution_count": 4,
   "metadata": {
    "collapsed": true
   },
   "outputs": [],
   "source": [
    "# returns \"True\" if face is detected in image stored at img_path\n",
    "def face_detector(img_path):\n",
    "    img = cv2.imread(img_path)\n",
    "    gray = cv2.cvtColor(img, cv2.COLOR_BGR2GRAY)\n",
    "    faces = face_cascade.detectMultiScale(gray)\n",
    "    return len(faces) > 0"
   ]
  },
  {
   "cell_type": "markdown",
   "metadata": {},
   "source": [
    "### (IMPLEMENTATION) Assess the Human Face Detector\n",
    "\n",
    "__Question 1:__ Use the code cell below to test the performance of the `face_detector` function.  \n",
    "- What percentage of the first 100 images in `human_files` have a detected human face?  \n",
    "- What percentage of the first 100 images in `dog_files` have a detected human face? \n",
    "\n",
    "Ideally, we would like 100% of human images with a detected face and 0% of dog images with a detected face.  You will see that our algorithm falls short of this goal, but still gives acceptable performance.  We extract the file paths for the first 100 images from each of the datasets and store them in the numpy arrays `human_files_short` and `dog_files_short`.\n",
    "\n",
    "__Answer:__ "
   ]
  },
  {
   "cell_type": "code",
   "execution_count": 5,
   "metadata": {},
   "outputs": [
    {
     "name": "stdout",
     "output_type": "stream",
     "text": [
      "Detected faces in 99.0% of human images.\n",
      "Detected faces in 11.0% of dog images.\n"
     ]
    }
   ],
   "source": [
    "human_files_short = human_files[:100]\n",
    "dog_files_short = train_files[:100]\n",
    "# Do NOT modify the code above this line.\n",
    "\n",
    "## TODO: Test the performance of the face_detector algorithm \n",
    "## on the images in human_files_short and dog_files_short.\n",
    "correct_detections = 0\n",
    "for file_name in human_files_short:\n",
    "    correct_detections += 1 if face_detector(file_name) else 0\n",
    "print(\"Detected faces in {}% of human images.\".format((correct_detections / len(human_files_short)) * 100.))\n",
    "\n",
    "correct_detections = 0\n",
    "for file_name in dog_files_short:\n",
    "    correct_detections += 1 if face_detector(file_name) else 0\n",
    "print(\"Detected faces in {}% of dog images.\".format((correct_detections / len(dog_files_short)) * 100.))"
   ]
  },
  {
   "cell_type": "markdown",
   "metadata": {},
   "source": [
    "__Question 2:__ This algorithmic choice necessitates that we communicate to the user that we accept human images only when they provide a clear view of a face (otherwise, we risk having unneccessarily frustrated users!). In your opinion, is this a reasonable expectation to pose on the user? If not, can you think of a way to detect humans in images that does not necessitate an image with a clearly presented face?\n",
    "\n",
    "__Answer:__\n",
    "\n",
    "We suggest the face detector from OpenCV as a potential way to detect human images in your algorithm, but you are free to explore other approaches, especially approaches that make use of deep learning :).  Please use the code cell below to design and test your own face detection algorithm.  If you decide to pursue this _optional_ task, report performance on each of the datasets."
   ]
  },
  {
   "cell_type": "code",
   "execution_count": null,
   "metadata": {
    "collapsed": true
   },
   "outputs": [],
   "source": [
    "## (Optional) TODO: Report the performance of another  \n",
    "## face detection algorithm on the LFW dataset\n",
    "### Feel free to use as many code cells as needed."
   ]
  },
  {
   "cell_type": "markdown",
   "metadata": {},
   "source": [
    "---\n",
    "<a id='step2'></a>\n",
    "## Step 2: Detect Dogs\n",
    "\n",
    "In this section, we use a pre-trained [ResNet-50](http://ethereon.github.io/netscope/#/gist/db945b393d40bfa26006) model to detect dogs in images.  Our first line of code downloads the ResNet-50 model, along with weights that have been trained on [ImageNet](http://www.image-net.org/), a very large, very popular dataset used for image classification and other vision tasks.  ImageNet contains over 10 million URLs, each linking to an image containing an object from one of [1000 categories](https://gist.github.com/yrevar/942d3a0ac09ec9e5eb3a).  Given an image, this pre-trained ResNet-50 model returns a prediction (derived from the available categories in ImageNet) for the object that is contained in the image."
   ]
  },
  {
   "cell_type": "code",
   "execution_count": 9,
   "metadata": {
    "collapsed": true
   },
   "outputs": [],
   "source": [
    "from keras.applications.resnet50 import ResNet50\n",
    "\n",
    "# define ResNet50 model\n",
    "ResNet50_model = ResNet50(weights='imagenet')"
   ]
  },
  {
   "cell_type": "markdown",
   "metadata": {},
   "source": [
    "### Pre-process the Data\n",
    "\n",
    "When using TensorFlow as backend, Keras CNNs require a 4D array (which we'll also refer to as a 4D tensor) as input, with shape\n",
    "\n",
    "$$\n",
    "(\\text{nb_samples}, \\text{rows}, \\text{columns}, \\text{channels}),\n",
    "$$\n",
    "\n",
    "where `nb_samples` corresponds to the total number of images (or samples), and `rows`, `columns`, and `channels` correspond to the number of rows, columns, and channels for each image, respectively.  \n",
    "\n",
    "The `path_to_tensor` function below takes a string-valued file path to a color image as input and returns a 4D tensor suitable for supplying to a Keras CNN.  The function first loads the image and resizes it to a square image that is $224 \\times 224$ pixels.  Next, the image is converted to an array, which is then resized to a 4D tensor.  In this case, since we are working with color images, each image has three channels.  Likewise, since we are processing a single image (or sample), the returned tensor will always have shape\n",
    "\n",
    "$$\n",
    "(1, 224, 224, 3).\n",
    "$$\n",
    "\n",
    "The `paths_to_tensor` function takes a numpy array of string-valued image paths as input and returns a 4D tensor with shape \n",
    "\n",
    "$$\n",
    "(\\text{nb_samples}, 224, 224, 3).\n",
    "$$\n",
    "\n",
    "Here, `nb_samples` is the number of samples, or number of images, in the supplied array of image paths.  It is best to think of `nb_samples` as the number of 3D tensors (where each 3D tensor corresponds to a different image) in your dataset!"
   ]
  },
  {
   "cell_type": "code",
   "execution_count": 3,
   "metadata": {
    "collapsed": true
   },
   "outputs": [],
   "source": [
    "from keras.preprocessing import image                  \n",
    "from tqdm import tqdm\n",
    "\n",
    "def path_to_tensor(img_path):\n",
    "    # loads RGB image as PIL.Image.Image type\n",
    "    img = image.load_img(img_path, target_size=(224, 224))\n",
    "    # convert PIL.Image.Image type to 3D tensor with shape (224, 224, 3)\n",
    "    x = image.img_to_array(img)\n",
    "    # convert 3D tensor to 4D tensor with shape (1, 224, 224, 3) and return 4D tensor\n",
    "    return np.expand_dims(x, axis=0)\n",
    "\n",
    "def paths_to_tensor(img_paths):\n",
    "    list_of_tensors = [path_to_tensor(img_path) for img_path in tqdm(img_paths)]\n",
    "    return np.vstack(list_of_tensors)"
   ]
  },
  {
   "cell_type": "markdown",
   "metadata": {},
   "source": [
    "### Making Predictions with ResNet-50\n",
    "\n",
    "Getting the 4D tensor ready for ResNet-50, and for any other pre-trained model in Keras, requires some additional processing.  First, the RGB image is converted to BGR by reordering the channels.  All pre-trained models have the additional normalization step that the mean pixel (expressed in RGB as $[103.939, 116.779, 123.68]$ and calculated from all pixels in all images in ImageNet) must be subtracted from every pixel in each image.  This is implemented in the imported function `preprocess_input`.  If you're curious, you can check the code for `preprocess_input` [here](https://github.com/fchollet/keras/blob/master/keras/applications/imagenet_utils.py).\n",
    "\n",
    "Now that we have a way to format our image for supplying to ResNet-50, we are now ready to use the model to extract the predictions.  This is accomplished with the `predict` method, which returns an array whose $i$-th entry is the model's predicted probability that the image belongs to the $i$-th ImageNet category.  This is implemented in the `ResNet50_predict_labels` function below.\n",
    "\n",
    "By taking the argmax of the predicted probability vector, we obtain an integer corresponding to the model's predicted object class, which we can identify with an object category through the use of this [dictionary](https://gist.github.com/yrevar/942d3a0ac09ec9e5eb3a). "
   ]
  },
  {
   "cell_type": "code",
   "execution_count": 11,
   "metadata": {
    "collapsed": true
   },
   "outputs": [],
   "source": [
    "from keras.applications.resnet50 import preprocess_input, decode_predictions\n",
    "\n",
    "def ResNet50_predict_labels(img_path):\n",
    "    # returns prediction vector for image located at img_path\n",
    "    img = preprocess_input(path_to_tensor(img_path))\n",
    "    return np.argmax(ResNet50_model.predict(img))"
   ]
  },
  {
   "cell_type": "markdown",
   "metadata": {},
   "source": [
    "### Write a Dog Detector\n",
    "\n",
    "While looking at the [dictionary](https://gist.github.com/yrevar/942d3a0ac09ec9e5eb3a), you will notice that the categories corresponding to dogs appear in an uninterrupted sequence and correspond to dictionary keys 151-268, inclusive, to include all categories from `'Chihuahua'` to `'Mexican hairless'`.  Thus, in order to check to see if an image is predicted to contain a dog by the pre-trained ResNet-50 model, we need only check if the `ResNet50_predict_labels` function above returns a value between 151 and 268 (inclusive).\n",
    "\n",
    "We use these ideas to complete the `dog_detector` function below, which returns `True` if a dog is detected in an image (and `False` if not)."
   ]
  },
  {
   "cell_type": "code",
   "execution_count": 12,
   "metadata": {
    "collapsed": true
   },
   "outputs": [],
   "source": [
    "### returns \"True\" if a dog is detected in the image stored at img_path\n",
    "def dog_detector(img_path):\n",
    "    prediction = ResNet50_predict_labels(img_path)\n",
    "    return ((prediction <= 268) & (prediction >= 151)) "
   ]
  },
  {
   "cell_type": "markdown",
   "metadata": {},
   "source": [
    "### (IMPLEMENTATION) Assess the Dog Detector\n",
    "\n",
    "__Question 3:__ Use the code cell below to test the performance of your `dog_detector` function.  \n",
    "- What percentage of the images in `human_files_short` have a detected dog?  \n",
    "- What percentage of the images in `dog_files_short` have a detected dog?\n",
    "\n",
    "__Answer:__ "
   ]
  },
  {
   "cell_type": "code",
   "execution_count": 13,
   "metadata": {},
   "outputs": [
    {
     "name": "stdout",
     "output_type": "stream",
     "text": [
      "Detected dogs in 2.0% of human images.\n",
      "Detected dogs in 100.0% of dog images.\n"
     ]
    }
   ],
   "source": [
    "### TODO: Test the performance of the dog_detector function\n",
    "### on the images in human_files_short and dog_files_short.\n",
    "correct_detections = 0\n",
    "for file_name in human_files_short:\n",
    "    correct_detections += 1 if dog_detector(file_name) else 0\n",
    "print(\"Detected dogs in {}% of human images.\".format((correct_detections / len(human_files_short)) * 100.))\n",
    "\n",
    "correct_detections = 0\n",
    "for file_name in dog_files_short:\n",
    "    correct_detections += 1 if dog_detector(file_name) else 0\n",
    "print(\"Detected dogs in {}% of dog images.\".format((correct_detections / len(dog_files_short)) * 100.))"
   ]
  },
  {
   "cell_type": "markdown",
   "metadata": {},
   "source": [
    "---\n",
    "<a id='step3'></a>\n",
    "## Step 3: Create a CNN to Classify Dog Breeds (from Scratch)\n",
    "\n",
    "Now that we have functions for detecting humans and dogs in images, we need a way to predict breed from images.  In this step, you will create a CNN that classifies dog breeds.  You must create your CNN _from scratch_ (so, you can't use transfer learning _yet_!), and you must attain a test accuracy of at least 1%.  In Step 5 of this notebook, you will have the opportunity to use transfer learning to create a CNN that attains greatly improved accuracy.\n",
    "\n",
    "Be careful with adding too many trainable layers!  More parameters means longer training, which means you are more likely to need a GPU to accelerate the training process.  Thankfully, Keras provides a handy estimate of the time that each epoch is likely to take; you can extrapolate this estimate to figure out how long it will take for your algorithm to train. \n",
    "\n",
    "We mention that the task of assigning breed to dogs from images is considered exceptionally challenging.  To see why, consider that *even a human* would have great difficulty in distinguishing between a Brittany and a Welsh Springer Spaniel.  \n",
    "\n",
    "Brittany | Welsh Springer Spaniel\n",
    "- | - \n",
    "<img src=\"images/Brittany_02625.jpg\" width=\"100\"> | <img src=\"images/Welsh_springer_spaniel_08203.jpg\" width=\"200\">\n",
    "\n",
    "It is not difficult to find other dog breed pairs with minimal inter-class variation (for instance, Curly-Coated Retrievers and American Water Spaniels).  \n",
    "\n",
    "Curly-Coated Retriever | American Water Spaniel\n",
    "- | -\n",
    "<img src=\"images/Curly-coated_retriever_03896.jpg\" width=\"200\"> | <img src=\"images/American_water_spaniel_00648.jpg\" width=\"200\">\n",
    "\n",
    "\n",
    "Likewise, recall that labradors come in yellow, chocolate, and black.  Your vision-based algorithm will have to conquer this high intra-class variation to determine how to classify all of these different shades as the same breed.  \n",
    "\n",
    "Yellow Labrador | Chocolate Labrador | Black Labrador\n",
    "- | -\n",
    "<img src=\"images/Labrador_retriever_06457.jpg\" width=\"150\"> | <img src=\"images/Labrador_retriever_06455.jpg\" width=\"240\"> | <img src=\"images/Labrador_retriever_06449.jpg\" width=\"220\">\n",
    "\n",
    "We also mention that random chance presents an exceptionally low bar: setting aside the fact that the classes are slightly imabalanced, a random guess will provide a correct answer roughly 1 in 133 times, which corresponds to an accuracy of less than 1%.  \n",
    "\n",
    "Remember that the practice is far ahead of the theory in deep learning.  Experiment with many different architectures, and trust your intuition.  And, of course, have fun! \n",
    "\n",
    "### Pre-process the Data\n",
    "\n",
    "We rescale the images by dividing every pixel in every image by 255."
   ]
  },
  {
   "cell_type": "code",
   "execution_count": 4,
   "metadata": {},
   "outputs": [
    {
     "name": "stderr",
     "output_type": "stream",
     "text": [
      "100%|██████████| 6680/6680 [00:39<00:00, 167.13it/s]\n",
      "100%|██████████| 835/835 [00:04<00:00, 206.42it/s]\n",
      "100%|██████████| 836/836 [00:04<00:00, 188.47it/s]\n"
     ]
    }
   ],
   "source": [
    "from PIL import ImageFile                            \n",
    "ImageFile.LOAD_TRUNCATED_IMAGES = True                 \n",
    "\n",
    "# pre-process the data for Keras\n",
    "train_tensors = paths_to_tensor(train_files).astype('float32')/255\n",
    "valid_tensors = paths_to_tensor(valid_files).astype('float32')/255\n",
    "test_tensors = paths_to_tensor(test_files).astype('float32')/255"
   ]
  },
  {
   "cell_type": "markdown",
   "metadata": {},
   "source": [
    "### (IMPLEMENTATION) Model Architecture\n",
    "\n",
    "Create a CNN to classify dog breed.  At the end of your code cell block, summarize the layers of your model by executing the line:\n",
    "    \n",
    "        model.summary()\n",
    "\n",
    "We have imported some Python modules to get you started, but feel free to import as many modules as you need.  If you end up getting stuck, here's a hint that specifies a model that trains relatively fast on CPU and attains >1% test accuracy in 5 epochs:\n",
    "\n",
    "![Sample CNN](images/sample_cnn.png)\n",
    "           \n",
    "__Question 4:__ Outline the steps you took to get to your final CNN architecture and your reasoning at each step.  If you chose to use the hinted architecture above, describe why you think that CNN architecture should work well for the image classification task.\n",
    "\n",
    "__Answer:__ "
   ]
  },
  {
   "cell_type": "code",
   "execution_count": 40,
   "metadata": {},
   "outputs": [
    {
     "name": "stdout",
     "output_type": "stream",
     "text": [
      "_________________________________________________________________\n",
      "Layer (type)                 Output Shape              Param #   \n",
      "=================================================================\n",
      "conv2d_1 (Conv2D)            (None, 220, 220, 64)      4864      \n",
      "_________________________________________________________________\n",
      "max_pooling2d_1 (MaxPooling2 (None, 73, 73, 64)        0         \n",
      "_________________________________________________________________\n",
      "conv2d_2 (Conv2D)            (None, 69, 69, 128)       204928    \n",
      "_________________________________________________________________\n",
      "max_pooling2d_2 (MaxPooling2 (None, 23, 23, 128)       0         \n",
      "_________________________________________________________________\n",
      "flatten_1 (Flatten)          (None, 67712)             0         \n",
      "_________________________________________________________________\n",
      "dense_1 (Dense)              (None, 1024)              69338112  \n",
      "_________________________________________________________________\n",
      "dropout_1 (Dropout)          (None, 1024)              0         \n",
      "_________________________________________________________________\n",
      "dense_2 (Dense)              (None, 133)               136325    \n",
      "=================================================================\n",
      "Total params: 69,684,229\n",
      "Trainable params: 69,684,229\n",
      "Non-trainable params: 0\n",
      "_________________________________________________________________\n"
     ]
    }
   ],
   "source": [
    "from keras.layers import Conv2D, MaxPooling2D, GlobalAveragePooling2D\n",
    "from keras.layers.convolutional import Convolution2D\n",
    "from keras.layers import Dropout, Flatten, Dense\n",
    "from keras.models import Sequential\n",
    "import tensorflow as tf\n",
    "from keras import backend as keras_backend\n",
    "\n",
    "keras_backend.clear_session()\n",
    "session = tf.Session()\n",
    "keras_backend.set_session(session)\n",
    "\n",
    "graph = keras_backend.get_session().graph\n",
    "with graph.as_default():\n",
    "    model = Sequential()\n",
    "\n",
    "    model.add(Convolution2D(64, (5, 5), activation = 'relu', padding='valid', input_shape=(224, 224, 3)))\n",
    "    model.add(MaxPooling2D(pool_size = (3, 3)))\n",
    "\n",
    "    model.add(Convolution2D(128, (5, 5), activation = 'relu', padding='valid'))\n",
    "    model.add(MaxPooling2D(pool_size = (3, 3)))\n",
    "\n",
    "    model.add(Flatten())\n",
    "\n",
    "    model.add(Dense(1024, activation = 'relu'))\n",
    "    model.add(Dropout(0.5))\n",
    "\n",
    "    model.add(Dense(133, activation = 'softmax'))\n",
    "\n",
    "model.summary()"
   ]
  },
  {
   "cell_type": "markdown",
   "metadata": {},
   "source": [
    "### Compile the Model"
   ]
  },
  {
   "cell_type": "code",
   "execution_count": 41,
   "metadata": {
    "collapsed": true
   },
   "outputs": [],
   "source": [
    "model.compile(optimizer='adam', loss='categorical_crossentropy', metrics=['accuracy'])"
   ]
  },
  {
   "cell_type": "markdown",
   "metadata": {},
   "source": [
    "### (IMPLEMENTATION) Train the Model\n",
    "\n",
    "Train your model in the code cell below.  Use model checkpointing to save the model that attains the best validation loss.\n",
    "\n",
    "You are welcome to [augment the training data](https://blog.keras.io/building-powerful-image-classification-models-using-very-little-data.html), but this is not a requirement. "
   ]
  },
  {
   "cell_type": "code",
   "execution_count": 42,
   "metadata": {
    "scrolled": false
   },
   "outputs": [
    {
     "name": "stdout",
     "output_type": "stream",
     "text": [
      "Epoch 1/50\n",
      "207/208 [============================>.] - ETA: 0s - loss: 4.9244 - acc: 0.0085Epoch 00000: val_loss improved from inf to 4.87543, saving model to saved_models/weights.best.from_scratch.hdf5\n",
      "208/208 [==============================] - 40s - loss: 4.9243 - acc: 0.0084 - val_loss: 4.8754 - val_acc: 0.0120\n",
      "Epoch 2/50\n",
      "207/208 [============================>.] - ETA: 0s - loss: 4.8578 - acc: 0.0125Epoch 00001: val_loss improved from 4.87543 to 4.80779, saving model to saved_models/weights.best.from_scratch.hdf5\n",
      "208/208 [==============================] - 38s - loss: 4.8574 - acc: 0.0125 - val_loss: 4.8078 - val_acc: 0.0174\n",
      "Epoch 3/50\n",
      "207/208 [============================>.] - ETA: 0s - loss: 4.7430 - acc: 0.0248Epoch 00002: val_loss improved from 4.80779 to 4.68449, saving model to saved_models/weights.best.from_scratch.hdf5\n",
      "208/208 [==============================] - 38s - loss: 4.7427 - acc: 0.0251 - val_loss: 4.6845 - val_acc: 0.0299\n",
      "Epoch 4/50\n",
      "207/208 [============================>.] - ETA: 0s - loss: 4.6359 - acc: 0.0293Epoch 00003: val_loss improved from 4.68449 to 4.59476, saving model to saved_models/weights.best.from_scratch.hdf5\n",
      "208/208 [==============================] - 38s - loss: 4.6361 - acc: 0.0291 - val_loss: 4.5948 - val_acc: 0.0299\n",
      "Epoch 5/50\n",
      "207/208 [============================>.] - ETA: 0s - loss: 4.5514 - acc: 0.0342Epoch 00004: val_loss improved from 4.59476 to 4.51994, saving model to saved_models/weights.best.from_scratch.hdf5\n",
      "208/208 [==============================] - 38s - loss: 4.5524 - acc: 0.0340 - val_loss: 4.5199 - val_acc: 0.0399\n",
      "Epoch 6/50\n",
      "207/208 [============================>.] - ETA: 0s - loss: 4.4621 - acc: 0.0486Epoch 00005: val_loss improved from 4.51994 to 4.42745, saving model to saved_models/weights.best.from_scratch.hdf5\n",
      "208/208 [==============================] - 38s - loss: 4.4609 - acc: 0.0485 - val_loss: 4.4274 - val_acc: 0.0361\n",
      "Epoch 7/50\n",
      "207/208 [============================>.] - ETA: 0s - loss: 4.3554 - acc: 0.0579Epoch 00006: val_loss improved from 4.42745 to 4.33870, saving model to saved_models/weights.best.from_scratch.hdf5\n",
      "208/208 [==============================] - 38s - loss: 4.3547 - acc: 0.0582 - val_loss: 4.3387 - val_acc: 0.0523\n",
      "Epoch 8/50\n",
      "207/208 [============================>.] - ETA: 0s - loss: 4.2311 - acc: 0.0639Epoch 00007: val_loss improved from 4.33870 to 4.23614, saving model to saved_models/weights.best.from_scratch.hdf5\n",
      "208/208 [==============================] - 38s - loss: 4.2296 - acc: 0.0642 - val_loss: 4.2361 - val_acc: 0.0672\n",
      "Epoch 9/50\n",
      "207/208 [============================>.] - ETA: 0s - loss: 4.1149 - acc: 0.0830Epoch 00008: val_loss improved from 4.23614 to 4.14571, saving model to saved_models/weights.best.from_scratch.hdf5\n",
      "208/208 [==============================] - 38s - loss: 4.1154 - acc: 0.0827 - val_loss: 4.1457 - val_acc: 0.0809\n",
      "Epoch 10/50\n",
      "207/208 [============================>.] - ETA: 0s - loss: 4.0088 - acc: 0.0990Epoch 00009: val_loss improved from 4.14571 to 4.11403, saving model to saved_models/weights.best.from_scratch.hdf5\n",
      "208/208 [==============================] - 38s - loss: 4.0077 - acc: 0.0990 - val_loss: 4.1140 - val_acc: 0.0822\n",
      "Epoch 11/50\n",
      "207/208 [============================>.] - ETA: 0s - loss: 3.9437 - acc: 0.0938Epoch 00010: val_loss improved from 4.11403 to 4.04046, saving model to saved_models/weights.best.from_scratch.hdf5\n",
      "208/208 [==============================] - 38s - loss: 3.9433 - acc: 0.0938 - val_loss: 4.0405 - val_acc: 0.0822\n",
      "Epoch 12/50\n",
      "207/208 [============================>.] - ETA: 0s - loss: 3.8824 - acc: 0.1171Epoch 00011: val_loss improved from 4.04046 to 4.02331, saving model to saved_models/weights.best.from_scratch.hdf5\n",
      "208/208 [==============================] - 38s - loss: 3.8810 - acc: 0.1170 - val_loss: 4.0233 - val_acc: 0.0934\n",
      "Epoch 13/50\n",
      "207/208 [============================>.] - ETA: 0s - loss: 3.7936 - acc: 0.1216Epoch 00012: val_loss improved from 4.02331 to 3.93658, saving model to saved_models/weights.best.from_scratch.hdf5\n",
      "208/208 [==============================] - 38s - loss: 3.7937 - acc: 0.1214 - val_loss: 3.9366 - val_acc: 0.0946\n",
      "Epoch 14/50\n",
      "207/208 [============================>.] - ETA: 0s - loss: 3.7236 - acc: 0.1307Epoch 00013: val_loss did not improve\n",
      "208/208 [==============================] - 36s - loss: 3.7243 - acc: 0.1307 - val_loss: 3.9875 - val_acc: 0.0834\n",
      "Epoch 15/50\n",
      "207/208 [============================>.] - ETA: 0s - loss: 3.6924 - acc: 0.1407Epoch 00014: val_loss improved from 3.93658 to 3.92105, saving model to saved_models/weights.best.from_scratch.hdf5\n",
      "208/208 [==============================] - 38s - loss: 3.6919 - acc: 0.1408 - val_loss: 3.9211 - val_acc: 0.1108\n",
      "Epoch 16/50\n",
      "207/208 [============================>.] - ETA: 0s - loss: 3.6038 - acc: 0.1488Epoch 00015: val_loss improved from 3.92105 to 3.90029, saving model to saved_models/weights.best.from_scratch.hdf5\n",
      "208/208 [==============================] - 38s - loss: 3.6053 - acc: 0.1486 - val_loss: 3.9003 - val_acc: 0.1096\n",
      "Epoch 17/50\n",
      "207/208 [============================>.] - ETA: 0s - loss: 3.5734 - acc: 0.1573Epoch 00016: val_loss improved from 3.90029 to 3.85151, saving model to saved_models/weights.best.from_scratch.hdf5\n",
      "208/208 [==============================] - 38s - loss: 3.5703 - acc: 0.1576 - val_loss: 3.8515 - val_acc: 0.1071\n",
      "Epoch 18/50\n",
      "207/208 [============================>.] - ETA: 0s - loss: 3.5020 - acc: 0.1688Epoch 00017: val_loss improved from 3.85151 to 3.81423, saving model to saved_models/weights.best.from_scratch.hdf5\n",
      "208/208 [==============================] - 38s - loss: 3.5027 - acc: 0.1683 - val_loss: 3.8142 - val_acc: 0.1258\n",
      "Epoch 19/50\n",
      "207/208 [============================>.] - ETA: 0s - loss: 3.4736 - acc: 0.1685Epoch 00018: val_loss did not improve\n",
      "208/208 [==============================] - 36s - loss: 3.4721 - acc: 0.1691 - val_loss: 3.9009 - val_acc: 0.1133\n",
      "Epoch 20/50\n",
      "207/208 [============================>.] - ETA: 0s - loss: 3.3923 - acc: 0.1840Epoch 00019: val_loss improved from 3.81423 to 3.79402, saving model to saved_models/weights.best.from_scratch.hdf5\n",
      "208/208 [==============================] - 38s - loss: 3.3926 - acc: 0.1839 - val_loss: 3.7940 - val_acc: 0.1258\n",
      "Epoch 21/50\n",
      "207/208 [============================>.] - ETA: 0s - loss: 3.3242 - acc: 0.1929Epoch 00020: val_loss did not improve\n",
      "208/208 [==============================] - 36s - loss: 3.3260 - acc: 0.1926 - val_loss: 3.8410 - val_acc: 0.1270\n",
      "Epoch 22/50\n",
      "207/208 [============================>.] - ETA: 0s - loss: 3.3232 - acc: 0.1995Epoch 00021: val_loss did not improve\n",
      "208/208 [==============================] - 36s - loss: 3.3240 - acc: 0.1991 - val_loss: 3.8178 - val_acc: 0.1196\n",
      "Epoch 23/50\n",
      "207/208 [============================>.] - ETA: 0s - loss: 3.2453 - acc: 0.2081Epoch 00022: val_loss improved from 3.79402 to 3.75675, saving model to saved_models/weights.best.from_scratch.hdf5\n",
      "208/208 [==============================] - 38s - loss: 3.2461 - acc: 0.2077 - val_loss: 3.7568 - val_acc: 0.1457\n",
      "Epoch 24/50\n",
      "207/208 [============================>.] - ETA: 0s - loss: 3.1841 - acc: 0.2215Epoch 00023: val_loss improved from 3.75675 to 3.73795, saving model to saved_models/weights.best.from_scratch.hdf5\n",
      "208/208 [==============================] - 38s - loss: 3.1837 - acc: 0.2215 - val_loss: 3.7379 - val_acc: 0.1457\n",
      "Epoch 25/50\n",
      "207/208 [============================>.] - ETA: 0s - loss: 3.1615 - acc: 0.2289Epoch 00024: val_loss improved from 3.73795 to 3.69888, saving model to saved_models/weights.best.from_scratch.hdf5\n",
      "208/208 [==============================] - 38s - loss: 3.1623 - acc: 0.2289 - val_loss: 3.6989 - val_acc: 0.1420\n",
      "Epoch 26/50\n",
      "207/208 [============================>.] - ETA: 0s - loss: 3.0918 - acc: 0.2298Epoch 00025: val_loss did not improve\n",
      "208/208 [==============================] - 36s - loss: 3.0920 - acc: 0.2299 - val_loss: 3.8443 - val_acc: 0.1432\n",
      "Epoch 27/50\n",
      "207/208 [============================>.] - ETA: 0s - loss: 3.0976 - acc: 0.2457Epoch 00026: val_loss did not improve\n",
      "208/208 [==============================] - 36s - loss: 3.0990 - acc: 0.2463 - val_loss: 3.7985 - val_acc: 0.1532\n",
      "Epoch 28/50\n"
     ]
    },
    {
     "name": "stdout",
     "output_type": "stream",
     "text": [
      "207/208 [============================>.] - ETA: 0s - loss: 3.0378 - acc: 0.2536Epoch 00027: val_loss did not improve\n",
      "208/208 [==============================] - 36s - loss: 3.0394 - acc: 0.2531 - val_loss: 3.8749 - val_acc: 0.1357\n",
      "Epoch 29/50\n",
      "207/208 [============================>.] - ETA: 0s - loss: 2.9824 - acc: 0.2617Epoch 00028: val_loss did not improve\n",
      "208/208 [==============================] - 36s - loss: 2.9867 - acc: 0.2609 - val_loss: 3.8403 - val_acc: 0.1345\n",
      "Epoch 30/50\n",
      "207/208 [============================>.] - ETA: 0s - loss: 2.9696 - acc: 0.2642Epoch 00029: val_loss did not improve\n",
      "208/208 [==============================] - 36s - loss: 2.9727 - acc: 0.2637 - val_loss: 3.7065 - val_acc: 0.1482\n",
      "Epoch 31/50\n",
      "207/208 [============================>.] - ETA: 0s - loss: 2.9042 - acc: 0.2665Epoch 00030: val_loss did not improve\n",
      "208/208 [==============================] - 36s - loss: 2.9013 - acc: 0.2669 - val_loss: 3.7937 - val_acc: 0.1532\n",
      "Epoch 32/50\n",
      "207/208 [============================>.] - ETA: 0s - loss: 2.9088 - acc: 0.2832Epoch 00031: val_loss did not improve\n",
      "208/208 [==============================] - 36s - loss: 2.9078 - acc: 0.2826 - val_loss: 3.7491 - val_acc: 0.1582\n",
      "Epoch 33/50\n",
      "207/208 [============================>.] - ETA: 0s - loss: 2.8889 - acc: 0.2775Epoch 00032: val_loss did not improve\n",
      "208/208 [==============================] - 36s - loss: 2.8870 - acc: 0.2778 - val_loss: 3.7316 - val_acc: 0.1445\n",
      "Epoch 34/50\n",
      "207/208 [============================>.] - ETA: 0s - loss: 2.8581 - acc: 0.2882Epoch 00033: val_loss did not improve\n",
      "208/208 [==============================] - 36s - loss: 2.8566 - acc: 0.2885 - val_loss: 3.8222 - val_acc: 0.1507\n",
      "Epoch 35/50\n",
      "207/208 [============================>.] - ETA: 0s - loss: 2.7936 - acc: 0.3002Epoch 00034: val_loss did not improve\n",
      "208/208 [==============================] - 36s - loss: 2.7954 - acc: 0.2998 - val_loss: 3.7510 - val_acc: 0.1694\n",
      "Epoch 36/50\n",
      "207/208 [============================>.] - ETA: 0s - loss: 2.7620 - acc: 0.3006Epoch 00035: val_loss did not improve\n",
      "208/208 [==============================] - 36s - loss: 2.7665 - acc: 0.3001 - val_loss: 3.8461 - val_acc: 0.1644\n",
      "Epoch 37/50\n",
      "207/208 [============================>.] - ETA: 0s - loss: 2.7316 - acc: 0.3040Epoch 00036: val_loss did not improve\n",
      "208/208 [==============================] - 36s - loss: 2.7306 - acc: 0.3040 - val_loss: 3.8992 - val_acc: 0.1731\n",
      "Epoch 38/50\n",
      "207/208 [============================>.] - ETA: 0s - loss: 2.7228 - acc: 0.3065Epoch 00037: val_loss did not improve\n",
      "208/208 [==============================] - 36s - loss: 2.7232 - acc: 0.3065 - val_loss: 3.8266 - val_acc: 0.1743\n",
      "Epoch 39/50\n",
      "207/208 [============================>.] - ETA: 0s - loss: 2.6643 - acc: 0.3210Epoch 00038: val_loss did not improve\n",
      "208/208 [==============================] - 36s - loss: 2.6634 - acc: 0.3204 - val_loss: 3.7901 - val_acc: 0.1557\n",
      "Epoch 40/50\n",
      "207/208 [============================>.] - ETA: 0s - loss: 2.6759 - acc: 0.3239Epoch 00039: val_loss did not improve\n",
      "208/208 [==============================] - 36s - loss: 2.6747 - acc: 0.3243 - val_loss: 3.7983 - val_acc: 0.1868\n",
      "Epoch 41/50\n",
      "207/208 [============================>.] - ETA: 0s - loss: 2.6262 - acc: 0.3275Epoch 00040: val_loss did not improve\n",
      "208/208 [==============================] - 36s - loss: 2.6254 - acc: 0.3276 - val_loss: 3.7436 - val_acc: 0.1868\n",
      "Epoch 42/50\n",
      "207/208 [============================>.] - ETA: 0s - loss: 2.5363 - acc: 0.3516Epoch 00041: val_loss did not improve\n",
      "208/208 [==============================] - 36s - loss: 2.5339 - acc: 0.3519 - val_loss: 3.8937 - val_acc: 0.1519\n",
      "Epoch 43/50\n",
      "207/208 [============================>.] - ETA: 0s - loss: 2.5427 - acc: 0.3515Epoch 00042: val_loss did not improve\n",
      "208/208 [==============================] - 36s - loss: 2.5453 - acc: 0.3512 - val_loss: 3.7754 - val_acc: 0.1706\n",
      "Epoch 44/50\n",
      "207/208 [============================>.] - ETA: 0s - loss: 2.5425 - acc: 0.3532Epoch 00043: val_loss did not improve\n",
      "208/208 [==============================] - 36s - loss: 2.5415 - acc: 0.3529 - val_loss: 3.7838 - val_acc: 0.1843\n",
      "Epoch 45/50\n",
      "207/208 [============================>.] - ETA: 0s - loss: 2.4590 - acc: 0.3620Epoch 00044: val_loss did not improve\n",
      "208/208 [==============================] - 36s - loss: 2.4602 - acc: 0.3614 - val_loss: 3.9285 - val_acc: 0.1731\n",
      "Epoch 46/50\n",
      "207/208 [============================>.] - ETA: 0s - loss: 2.4885 - acc: 0.3646Epoch 00045: val_loss did not improve\n",
      "208/208 [==============================] - 36s - loss: 2.4918 - acc: 0.3638 - val_loss: 3.7626 - val_acc: 0.1993\n",
      "Epoch 47/50\n",
      "207/208 [============================>.] - ETA: 0s - loss: 2.4124 - acc: 0.3753Epoch 00046: val_loss did not improve\n",
      "208/208 [==============================] - 36s - loss: 2.4128 - acc: 0.3755 - val_loss: 3.8645 - val_acc: 0.1594\n",
      "Epoch 48/50\n",
      "207/208 [============================>.] - ETA: 0s - loss: 2.4238 - acc: 0.3764Epoch 00047: val_loss did not improve\n",
      "208/208 [==============================] - 36s - loss: 2.4250 - acc: 0.3766 - val_loss: 3.7783 - val_acc: 0.1893\n",
      "Epoch 49/50\n",
      "207/208 [============================>.] - ETA: 0s - loss: 2.3806 - acc: 0.3872Epoch 00048: val_loss did not improve\n",
      "208/208 [==============================] - 36s - loss: 2.3823 - acc: 0.3869 - val_loss: 3.8705 - val_acc: 0.1656\n",
      "Epoch 50/50\n",
      "207/208 [============================>.] - ETA: 0s - loss: 2.3584 - acc: 0.3904Epoch 00049: val_loss did not improve\n",
      "208/208 [==============================] - 36s - loss: 2.3576 - acc: 0.3901 - val_loss: 3.9974 - val_acc: 0.1831\n"
     ]
    },
    {
     "data": {
      "text/plain": [
       "<keras.callbacks.History at 0x7fd2699ad390>"
      ]
     },
     "execution_count": 42,
     "metadata": {},
     "output_type": "execute_result"
    }
   ],
   "source": [
    "from keras.callbacks import ModelCheckpoint  \n",
    "from keras.preprocessing.image import ImageDataGenerator\n",
    "\n",
    "epochs = 50\n",
    "batch_size = 32\n",
    "\n",
    "### Do NOT modify the code below this line.\n",
    "\n",
    "checkpointer = ModelCheckpoint(filepath='saved_models/weights.best.from_scratch.hdf5', \n",
    "                               verbose=1, save_best_only=True)\n",
    "\n",
    "data_generator = ImageDataGenerator(\n",
    "    rotation_range=30,\n",
    "    width_shift_range=0.1,\n",
    "    height_shift_range=0.1,\n",
    "    shear_range=0.1,\n",
    "    zoom_range=0.1,\n",
    "    horizontal_flip=True,\n",
    "    fill_mode='nearest'\n",
    ")\n",
    "\n",
    "model.fit_generator(\n",
    "    data_generator.flow(train_tensors, train_targets, batch_size=batch_size), \n",
    "    steps_per_epoch=len(train_tensors) // batch_size,\n",
    "    epochs=epochs, \n",
    "    validation_data=data_generator.flow(valid_tensors, valid_targets),\n",
    "    validation_steps=len(valid_tensors) // batch_size,\n",
    "    callbacks=[checkpointer], \n",
    "    verbose=1\n",
    ")"
   ]
  },
  {
   "cell_type": "markdown",
   "metadata": {},
   "source": [
    "### Load the Model with the Best Validation Loss"
   ]
  },
  {
   "cell_type": "code",
   "execution_count": 43,
   "metadata": {
    "collapsed": true
   },
   "outputs": [],
   "source": [
    "model.load_weights('saved_models/weights.best.from_scratch.hdf5')"
   ]
  },
  {
   "cell_type": "markdown",
   "metadata": {},
   "source": [
    "### Test the Model\n",
    "\n",
    "Try out your model on the test dataset of dog images.  Ensure that your test accuracy is greater than 1%."
   ]
  },
  {
   "cell_type": "code",
   "execution_count": 44,
   "metadata": {},
   "outputs": [
    {
     "name": "stdout",
     "output_type": "stream",
     "text": [
      "Test accuracy: 18.1818%\n"
     ]
    }
   ],
   "source": [
    "# get index of predicted dog breed for each image in test set\n",
    "dog_breed_predictions = [np.argmax(model.predict(np.expand_dims(tensor, axis=0))) for tensor in test_tensors]\n",
    "\n",
    "# report test accuracy\n",
    "test_accuracy = 100*np.sum(np.array(dog_breed_predictions)==np.argmax(test_targets, axis=1))/len(dog_breed_predictions)\n",
    "print('Test accuracy: %.4f%%' % test_accuracy)"
   ]
  },
  {
   "cell_type": "markdown",
   "metadata": {},
   "source": [
    "---\n",
    "<a id='step4'></a>\n",
    "## Step 4: Use a CNN to Classify Dog Breeds\n",
    "\n",
    "To reduce training time without sacrificing accuracy, we show you how to train a CNN using transfer learning.  In the following step, you will get a chance to use transfer learning to train your own CNN.\n",
    "\n",
    "### Obtain Bottleneck Features"
   ]
  },
  {
   "cell_type": "code",
   "execution_count": 45,
   "metadata": {
    "collapsed": true
   },
   "outputs": [],
   "source": [
    "bottleneck_features = np.load('bottleneck_features/DogVGG16Data.npz')\n",
    "train_VGG16 = bottleneck_features['train']\n",
    "valid_VGG16 = bottleneck_features['valid']\n",
    "test_VGG16 = bottleneck_features['test']"
   ]
  },
  {
   "cell_type": "markdown",
   "metadata": {},
   "source": [
    "### Model Architecture\n",
    "\n",
    "The model uses the the pre-trained VGG-16 model as a fixed feature extractor, where the last convolutional output of VGG-16 is fed as input to our model.  We only add a global average pooling layer and a fully connected layer, where the latter contains one node for each dog category and is equipped with a softmax."
   ]
  },
  {
   "cell_type": "code",
   "execution_count": 46,
   "metadata": {},
   "outputs": [
    {
     "name": "stdout",
     "output_type": "stream",
     "text": [
      "_________________________________________________________________\n",
      "Layer (type)                 Output Shape              Param #   \n",
      "=================================================================\n",
      "global_average_pooling2d_1 ( (None, 512)               0         \n",
      "_________________________________________________________________\n",
      "dense_3 (Dense)              (None, 133)               68229     \n",
      "=================================================================\n",
      "Total params: 68,229\n",
      "Trainable params: 68,229\n",
      "Non-trainable params: 0\n",
      "_________________________________________________________________\n"
     ]
    }
   ],
   "source": [
    "VGG16_model = Sequential()\n",
    "VGG16_model.add(GlobalAveragePooling2D(input_shape=train_VGG16.shape[1:]))\n",
    "VGG16_model.add(Dense(133, activation='softmax'))\n",
    "\n",
    "VGG16_model.summary()"
   ]
  },
  {
   "cell_type": "markdown",
   "metadata": {},
   "source": [
    "### Compile the Model"
   ]
  },
  {
   "cell_type": "code",
   "execution_count": 47,
   "metadata": {
    "collapsed": true
   },
   "outputs": [],
   "source": [
    "VGG16_model.compile(loss='categorical_crossentropy', optimizer='rmsprop', metrics=['accuracy'])"
   ]
  },
  {
   "cell_type": "markdown",
   "metadata": {},
   "source": [
    "### Train the Model"
   ]
  },
  {
   "cell_type": "code",
   "execution_count": 48,
   "metadata": {},
   "outputs": [
    {
     "name": "stdout",
     "output_type": "stream",
     "text": [
      "Train on 6680 samples, validate on 835 samples\n",
      "Epoch 1/20\n",
      "6240/6680 [===========================>..] - ETA: 0s - loss: 12.4474 - acc: 0.1231Epoch 00000: val_loss improved from inf to 11.16070, saving model to saved_models/weights.best.VGG16.hdf5\n",
      "6680/6680 [==============================] - 0s - loss: 12.3594 - acc: 0.1283 - val_loss: 11.1607 - val_acc: 0.2060\n",
      "Epoch 2/20\n",
      "6400/6680 [===========================>..] - ETA: 0s - loss: 10.5553 - acc: 0.2650Epoch 00001: val_loss improved from 11.16070 to 10.60168, saving model to saved_models/weights.best.VGG16.hdf5\n",
      "6680/6680 [==============================] - 0s - loss: 10.5727 - acc: 0.2651 - val_loss: 10.6017 - val_acc: 0.2683\n",
      "Epoch 3/20\n",
      "6300/6680 [===========================>..] - ETA: 0s - loss: 10.1772 - acc: 0.3190Epoch 00002: val_loss improved from 10.60168 to 10.43600, saving model to saved_models/weights.best.VGG16.hdf5\n",
      "6680/6680 [==============================] - 0s - loss: 10.1940 - acc: 0.3172 - val_loss: 10.4360 - val_acc: 0.2754\n",
      "Epoch 4/20\n",
      "6360/6680 [===========================>..] - ETA: 0s - loss: 9.9664 - acc: 0.3407Epoch 00003: val_loss improved from 10.43600 to 10.27086, saving model to saved_models/weights.best.VGG16.hdf5\n",
      "6680/6680 [==============================] - 0s - loss: 9.9380 - acc: 0.3421 - val_loss: 10.2709 - val_acc: 0.2886\n",
      "Epoch 5/20\n",
      "6340/6680 [===========================>..] - ETA: 0s - loss: 9.7307 - acc: 0.3651Epoch 00004: val_loss improved from 10.27086 to 10.12590, saving model to saved_models/weights.best.VGG16.hdf5\n",
      "6680/6680 [==============================] - 0s - loss: 9.7840 - acc: 0.3618 - val_loss: 10.1259 - val_acc: 0.3114\n",
      "Epoch 6/20\n",
      "6300/6680 [===========================>..] - ETA: 0s - loss: 9.6517 - acc: 0.3678Epoch 00005: val_loss improved from 10.12590 to 9.96462, saving model to saved_models/weights.best.VGG16.hdf5\n",
      "6680/6680 [==============================] - 0s - loss: 9.6263 - acc: 0.3695 - val_loss: 9.9646 - val_acc: 0.3150\n",
      "Epoch 7/20\n",
      "6400/6680 [===========================>..] - ETA: 0s - loss: 9.4751 - acc: 0.3889Epoch 00006: val_loss improved from 9.96462 to 9.89447, saving model to saved_models/weights.best.VGG16.hdf5\n",
      "6680/6680 [==============================] - 0s - loss: 9.4551 - acc: 0.3897 - val_loss: 9.8945 - val_acc: 0.3222\n",
      "Epoch 8/20\n",
      "6380/6680 [===========================>..] - ETA: 0s - loss: 9.2770 - acc: 0.4024Epoch 00007: val_loss improved from 9.89447 to 9.75262, saving model to saved_models/weights.best.VGG16.hdf5\n",
      "6680/6680 [==============================] - 0s - loss: 9.2947 - acc: 0.4015 - val_loss: 9.7526 - val_acc: 0.3401\n",
      "Epoch 9/20\n",
      "6320/6680 [===========================>..] - ETA: 0s - loss: 9.2433 - acc: 0.4104Epoch 00008: val_loss did not improve\n",
      "6680/6680 [==============================] - 0s - loss: 9.2337 - acc: 0.4103 - val_loss: 9.8371 - val_acc: 0.3341\n",
      "Epoch 10/20\n",
      "6340/6680 [===========================>..] - ETA: 0s - loss: 9.1791 - acc: 0.4156Epoch 00009: val_loss improved from 9.75262 to 9.69301, saving model to saved_models/weights.best.VGG16.hdf5\n",
      "6680/6680 [==============================] - 0s - loss: 9.1908 - acc: 0.4154 - val_loss: 9.6930 - val_acc: 0.3461\n",
      "Epoch 11/20\n",
      "6340/6680 [===========================>..] - ETA: 0s - loss: 9.1167 - acc: 0.4254Epoch 00010: val_loss did not improve\n",
      "6680/6680 [==============================] - 0s - loss: 9.1587 - acc: 0.4226 - val_loss: 9.8080 - val_acc: 0.3329\n",
      "Epoch 12/20\n",
      "6340/6680 [===========================>..] - ETA: 0s - loss: 9.0901 - acc: 0.4238Epoch 00011: val_loss did not improve\n",
      "6680/6680 [==============================] - 0s - loss: 9.0790 - acc: 0.4246 - val_loss: 9.6940 - val_acc: 0.3293\n",
      "Epoch 13/20\n",
      "6360/6680 [===========================>..] - ETA: 0s - loss: 8.9562 - acc: 0.4303Epoch 00012: val_loss improved from 9.69301 to 9.49657, saving model to saved_models/weights.best.VGG16.hdf5\n",
      "6680/6680 [==============================] - 0s - loss: 8.9343 - acc: 0.4317 - val_loss: 9.4966 - val_acc: 0.3497\n",
      "Epoch 14/20\n",
      "6360/6680 [===========================>..] - ETA: 0s - loss: 8.7871 - acc: 0.4426Epoch 00013: val_loss improved from 9.49657 to 9.45738, saving model to saved_models/weights.best.VGG16.hdf5\n",
      "6680/6680 [==============================] - 0s - loss: 8.7901 - acc: 0.4418 - val_loss: 9.4574 - val_acc: 0.3545\n",
      "Epoch 15/20\n",
      "6260/6680 [===========================>..] - ETA: 0s - loss: 8.7182 - acc: 0.4482Epoch 00014: val_loss improved from 9.45738 to 9.38249, saving model to saved_models/weights.best.VGG16.hdf5\n",
      "6680/6680 [==============================] - 0s - loss: 8.7165 - acc: 0.4484 - val_loss: 9.3825 - val_acc: 0.3569\n",
      "Epoch 16/20\n",
      "6300/6680 [===========================>..] - ETA: 0s - loss: 8.6653 - acc: 0.4497Epoch 00015: val_loss improved from 9.38249 to 9.31254, saving model to saved_models/weights.best.VGG16.hdf5\n",
      "6680/6680 [==============================] - 0s - loss: 8.6583 - acc: 0.4501 - val_loss: 9.3125 - val_acc: 0.3509\n",
      "Epoch 17/20\n",
      "6320/6680 [===========================>..] - ETA: 0s - loss: 8.5495 - acc: 0.4584Epoch 00016: val_loss improved from 9.31254 to 9.25376, saving model to saved_models/weights.best.VGG16.hdf5\n",
      "6680/6680 [==============================] - 0s - loss: 8.5650 - acc: 0.4576 - val_loss: 9.2538 - val_acc: 0.3737\n",
      "Epoch 18/20\n",
      "6380/6680 [===========================>..] - ETA: 0s - loss: 8.4859 - acc: 0.4618Epoch 00017: val_loss improved from 9.25376 to 9.10950, saving model to saved_models/weights.best.VGG16.hdf5\n",
      "6680/6680 [==============================] - 0s - loss: 8.4702 - acc: 0.4627 - val_loss: 9.1095 - val_acc: 0.3749\n",
      "Epoch 19/20\n",
      "6380/6680 [===========================>..] - ETA: 0s - loss: 8.4103 - acc: 0.4710Epoch 00018: val_loss did not improve\n",
      "6680/6680 [==============================] - 0s - loss: 8.4069 - acc: 0.4710 - val_loss: 9.1216 - val_acc: 0.3629\n",
      "Epoch 20/20\n",
      "6380/6680 [===========================>..] - ETA: 0s - loss: 8.4153 - acc: 0.4712Epoch 00019: val_loss improved from 9.10950 to 9.06644, saving model to saved_models/weights.best.VGG16.hdf5\n",
      "6680/6680 [==============================] - 0s - loss: 8.3817 - acc: 0.4731 - val_loss: 9.0664 - val_acc: 0.3772\n"
     ]
    },
    {
     "data": {
      "text/plain": [
       "<keras.callbacks.History at 0x7fd26b555a90>"
      ]
     },
     "execution_count": 48,
     "metadata": {},
     "output_type": "execute_result"
    }
   ],
   "source": [
    "checkpointer = ModelCheckpoint(filepath='saved_models/weights.best.VGG16.hdf5', \n",
    "                               verbose=1, save_best_only=True)\n",
    "\n",
    "VGG16_model.fit(train_VGG16, train_targets, \n",
    "          validation_data=(valid_VGG16, valid_targets),\n",
    "          epochs=20, batch_size=20, callbacks=[checkpointer], verbose=1)"
   ]
  },
  {
   "cell_type": "markdown",
   "metadata": {},
   "source": [
    "### Load the Model with the Best Validation Loss"
   ]
  },
  {
   "cell_type": "code",
   "execution_count": 49,
   "metadata": {
    "collapsed": true
   },
   "outputs": [],
   "source": [
    "VGG16_model.load_weights('saved_models/weights.best.VGG16.hdf5')"
   ]
  },
  {
   "cell_type": "markdown",
   "metadata": {},
   "source": [
    "### Test the Model\n",
    "\n",
    "Now, we can use the CNN to test how well it identifies breed within our test dataset of dog images.  We print the test accuracy below."
   ]
  },
  {
   "cell_type": "code",
   "execution_count": 50,
   "metadata": {},
   "outputs": [
    {
     "name": "stdout",
     "output_type": "stream",
     "text": [
      "Test accuracy: 39.1148%\n"
     ]
    }
   ],
   "source": [
    "# get index of predicted dog breed for each image in test set\n",
    "VGG16_predictions = [np.argmax(VGG16_model.predict(np.expand_dims(feature, axis=0))) for feature in test_VGG16]\n",
    "\n",
    "# report test accuracy\n",
    "test_accuracy = 100*np.sum(np.array(VGG16_predictions)==np.argmax(test_targets, axis=1))/len(VGG16_predictions)\n",
    "print('Test accuracy: %.4f%%' % test_accuracy)"
   ]
  },
  {
   "cell_type": "markdown",
   "metadata": {},
   "source": [
    "### Predict Dog Breed with the Model"
   ]
  },
  {
   "cell_type": "code",
   "execution_count": 51,
   "metadata": {
    "collapsed": true
   },
   "outputs": [],
   "source": [
    "from extract_bottleneck_features import *\n",
    "\n",
    "def VGG16_predict_breed(img_path):\n",
    "    # extract bottleneck features\n",
    "    bottleneck_feature = extract_VGG16(path_to_tensor(img_path))\n",
    "    # obtain predicted vector\n",
    "    predicted_vector = VGG16_model.predict(bottleneck_feature)\n",
    "    # return dog breed that is predicted by the model\n",
    "    return dog_names[np.argmax(predicted_vector)]"
   ]
  },
  {
   "cell_type": "markdown",
   "metadata": {},
   "source": [
    "---\n",
    "<a id='step5'></a>\n",
    "## Step 5: Create a CNN to Classify Dog Breeds (using Transfer Learning)\n",
    "\n",
    "You will now use transfer learning to create a CNN that can identify dog breed from images.  Your CNN must attain at least 60% accuracy on the test set.\n",
    "\n",
    "In Step 4, we used transfer learning to create a CNN using VGG-16 bottleneck features.  In this section, you must use the bottleneck features from a different pre-trained model.  To make things easier for you, we have pre-computed the features for all of the networks that are currently available in Keras:\n",
    "- [VGG-19](https://s3-us-west-1.amazonaws.com/udacity-aind/dog-project/DogVGG19Data.npz) bottleneck features\n",
    "- [ResNet-50](https://s3-us-west-1.amazonaws.com/udacity-aind/dog-project/DogResnet50Data.npz) bottleneck features\n",
    "- [Inception](https://s3-us-west-1.amazonaws.com/udacity-aind/dog-project/DogInceptionV3Data.npz) bottleneck features\n",
    "- [Xception](https://s3-us-west-1.amazonaws.com/udacity-aind/dog-project/DogXceptionData.npz) bottleneck features\n",
    "\n",
    "The files are encoded as such:\n",
    "\n",
    "    Dog{network}Data.npz\n",
    "    \n",
    "where `{network}`, in the above filename, can be one of `VGG19`, `Resnet50`, `InceptionV3`, or `Xception`.  Pick one of the above architectures, download the corresponding bottleneck features, and store the downloaded file in the `bottleneck_features/` folder in the repository.\n",
    "\n",
    "### (IMPLEMENTATION) Obtain Bottleneck Features\n",
    "\n",
    "In the code block below, extract the bottleneck features corresponding to the train, test, and validation sets by running the following:\n",
    "\n",
    "    bottleneck_features = np.load('bottleneck_features/Dog{network}Data.npz')\n",
    "    train_{network} = bottleneck_features['train']\n",
    "    valid_{network} = bottleneck_features['valid']\n",
    "    test_{network} = bottleneck_features['test']"
   ]
  },
  {
   "cell_type": "code",
   "execution_count": null,
   "metadata": {
    "collapsed": true
   },
   "outputs": [],
   "source": [
    "### TODO: Obtain bottleneck features from another pre-trained CNN."
   ]
  },
  {
   "cell_type": "markdown",
   "metadata": {},
   "source": [
    "### (IMPLEMENTATION) Model Architecture\n",
    "\n",
    "Create a CNN to classify dog breed.  At the end of your code cell block, summarize the layers of your model by executing the line:\n",
    "    \n",
    "        <your model's name>.summary()\n",
    "   \n",
    "__Question 5:__ Outline the steps you took to get to your final CNN architecture and your reasoning at each step.  Describe why you think the architecture is suitable for the current problem.\n",
    "\n",
    "__Answer:__ \n",
    "\n"
   ]
  },
  {
   "cell_type": "code",
   "execution_count": null,
   "metadata": {
    "collapsed": true
   },
   "outputs": [],
   "source": [
    "### TODO: Define your architecture."
   ]
  },
  {
   "cell_type": "markdown",
   "metadata": {},
   "source": [
    "### (IMPLEMENTATION) Compile the Model"
   ]
  },
  {
   "cell_type": "code",
   "execution_count": null,
   "metadata": {
    "collapsed": true
   },
   "outputs": [],
   "source": [
    "### TODO: Compile the model."
   ]
  },
  {
   "cell_type": "markdown",
   "metadata": {},
   "source": [
    "### (IMPLEMENTATION) Train the Model\n",
    "\n",
    "Train your model in the code cell below.  Use model checkpointing to save the model that attains the best validation loss.  \n",
    "\n",
    "You are welcome to [augment the training data](https://blog.keras.io/building-powerful-image-classification-models-using-very-little-data.html), but this is not a requirement. "
   ]
  },
  {
   "cell_type": "code",
   "execution_count": null,
   "metadata": {
    "collapsed": true
   },
   "outputs": [],
   "source": [
    "### TODO: Train the model."
   ]
  },
  {
   "cell_type": "markdown",
   "metadata": {},
   "source": [
    "### (IMPLEMENTATION) Load the Model with the Best Validation Loss"
   ]
  },
  {
   "cell_type": "code",
   "execution_count": null,
   "metadata": {
    "collapsed": true
   },
   "outputs": [],
   "source": [
    "### TODO: Load the model weights with the best validation loss."
   ]
  },
  {
   "cell_type": "markdown",
   "metadata": {},
   "source": [
    "### (IMPLEMENTATION) Test the Model\n",
    "\n",
    "Try out your model on the test dataset of dog images. Ensure that your test accuracy is greater than 60%."
   ]
  },
  {
   "cell_type": "code",
   "execution_count": null,
   "metadata": {
    "collapsed": true
   },
   "outputs": [],
   "source": [
    "### TODO: Calculate classification accuracy on the test dataset."
   ]
  },
  {
   "cell_type": "markdown",
   "metadata": {},
   "source": [
    "### (IMPLEMENTATION) Predict Dog Breed with the Model\n",
    "\n",
    "Write a function that takes an image path as input and returns the dog breed (`Affenpinscher`, `Afghan_hound`, etc) that is predicted by your model.  \n",
    "\n",
    "Similar to the analogous function in Step 5, your function should have three steps:\n",
    "1. Extract the bottleneck features corresponding to the chosen CNN model.\n",
    "2. Supply the bottleneck features as input to the model to return the predicted vector.  Note that the argmax of this prediction vector gives the index of the predicted dog breed.\n",
    "3. Use the `dog_names` array defined in Step 0 of this notebook to return the corresponding breed.\n",
    "\n",
    "The functions to extract the bottleneck features can be found in `extract_bottleneck_features.py`, and they have been imported in an earlier code cell.  To obtain the bottleneck features corresponding to your chosen CNN architecture, you need to use the function\n",
    "\n",
    "    extract_{network}\n",
    "    \n",
    "where `{network}`, in the above filename, should be one of `VGG19`, `Resnet50`, `InceptionV3`, or `Xception`."
   ]
  },
  {
   "cell_type": "code",
   "execution_count": null,
   "metadata": {
    "collapsed": true
   },
   "outputs": [],
   "source": [
    "### TODO: Write a function that takes a path to an image as input\n",
    "### and returns the dog breed that is predicted by the model."
   ]
  },
  {
   "cell_type": "markdown",
   "metadata": {},
   "source": [
    "---\n",
    "<a id='step6'></a>\n",
    "## Step 6: Write your Algorithm\n",
    "\n",
    "Write an algorithm that accepts a file path to an image and first determines whether the image contains a human, dog, or neither.  Then,\n",
    "- if a __dog__ is detected in the image, return the predicted breed.\n",
    "- if a __human__ is detected in the image, return the resembling dog breed.\n",
    "- if __neither__ is detected in the image, provide output that indicates an error.\n",
    "\n",
    "You are welcome to write your own functions for detecting humans and dogs in images, but feel free to use the `face_detector` and `dog_detector` functions developed above.  You are __required__ to use your CNN from Step 5 to predict dog breed.  \n",
    "\n",
    "Some sample output for our algorithm is provided below, but feel free to design your own user experience!\n",
    "\n",
    "![Sample Human Output](images/sample_human_output.png)\n",
    "\n",
    "\n",
    "### (IMPLEMENTATION) Write your Algorithm"
   ]
  },
  {
   "cell_type": "code",
   "execution_count": null,
   "metadata": {
    "collapsed": true
   },
   "outputs": [],
   "source": [
    "### TODO: Write your algorithm.\n",
    "### Feel free to use as many code cells as needed."
   ]
  },
  {
   "cell_type": "markdown",
   "metadata": {},
   "source": [
    "---\n",
    "<a id='step7'></a>\n",
    "## Step 7: Test Your Algorithm\n",
    "\n",
    "In this section, you will take your new algorithm for a spin!  What kind of dog does the algorithm think that __you__ look like?  If you have a dog, does it predict your dog's breed accurately?  If you have a cat, does it mistakenly think that your cat is a dog?\n",
    "\n",
    "### (IMPLEMENTATION) Test Your Algorithm on Sample Images!\n",
    "\n",
    "Test your algorithm at least six images on your computer.  Feel free to use any images you like.  Use at least two human and two dog images.  \n",
    "\n",
    "__Question 6:__ Is the output better than you expected :) ?  Or worse :( ?  Provide at least three possible points of improvement for your algorithm.\n",
    "\n",
    "__Answer:__ "
   ]
  },
  {
   "cell_type": "code",
   "execution_count": null,
   "metadata": {
    "collapsed": true
   },
   "outputs": [],
   "source": [
    "## TODO: Execute your algorithm from Step 6 on\n",
    "## at least 6 images on your computer.\n",
    "## Feel free to use as many code cells as needed."
   ]
  }
 ],
 "metadata": {
  "anaconda-cloud": {},
  "kernelspec": {
   "display_name": "Python [default]",
   "language": "python",
   "name": "python3"
  },
  "language_info": {
   "codemirror_mode": {
    "name": "ipython",
    "version": 3
   },
   "file_extension": ".py",
   "mimetype": "text/x-python",
   "name": "python",
   "nbconvert_exporter": "python",
   "pygments_lexer": "ipython3",
   "version": "3.5.2"
  }
 },
 "nbformat": 4,
 "nbformat_minor": 1
}
